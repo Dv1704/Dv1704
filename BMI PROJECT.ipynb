{
 "cells": [
  {
   "cell_type": "code",
   "execution_count": null,
   "id": "9afe1170",
   "metadata": {
    "scrolled": true
   },
   "outputs": [],
   "source": [
    "\n",
    "name=input('Enter your name:')\n",
    "weight=int(input('Enter your weight in pounds:'))\n",
    "Height=int(input('Enter your height in inches:'))\n",
    "BMI= (weight*703) / (Height*Height)\n",
    "print(BMI)\n",
    "\n",
    "if BMI >0:\n",
    "    if (BMI<18.5):\n",
    "        print (name +',You are underweight.')\n",
    "    elif (BMI <=24.9):\n",
    "        print(name +',you are normal weight.')\n",
    "    elif (BMI<29.9):\n",
    "        print(name +',you are overweight, you need to exercise more.')\n",
    "    elif (BMI<34.9):\n",
    "        print (name +',you are obese.')\n",
    "    elif (BMI<39.9):\n",
    "        print ( name +',you are severely obese.')\n",
    "    else:\n",
    "        print(name +',you are morbidly obese.')\n",
    "        "
   ]
  },
  {
   "cell_type": "code",
   "execution_count": null,
   "id": "501880df",
   "metadata": {},
   "outputs": [],
   "source": []
  }
 ],
 "metadata": {
  "kernelspec": {
   "display_name": "Python 3 (ipykernel)",
   "language": "python",
   "name": "python3"
  },
  "language_info": {
   "codemirror_mode": {
    "name": "ipython",
    "version": 3
   },
   "file_extension": ".py",
   "mimetype": "text/x-python",
   "name": "python",
   "nbconvert_exporter": "python",
   "pygments_lexer": "ipython3",
   "version": "3.9.13"
  }
 },
 "nbformat": 4,
 "nbformat_minor": 5
}
