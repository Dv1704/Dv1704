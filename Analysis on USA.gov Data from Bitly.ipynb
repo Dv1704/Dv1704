{
 "cells": [
  {
   "cell_type": "markdown",
   "id": "67893d32",
   "metadata": {},
   "source": [
    "# Analysis on USA.gov Data from Bitly\n"
   ]
  },
  {
   "cell_type": "markdown",
   "id": "f1b44fa6",
   "metadata": {},
   "source": [
    "LOADING THE JSON FILE"
   ]
  },
  {
   "cell_type": "code",
   "execution_count": 75,
   "id": "fabeb70f",
   "metadata": {},
   "outputs": [
    {
     "data": {
      "text/plain": [
       "'{ \"a\": \"Mozilla\\\\/5.0 (Windows NT 6.1; WOW64) AppleWebKit\\\\/535.11 (KHTML, like Gecko) Chrome\\\\/17.0.963.78 Safari\\\\/535.11\", \"c\": \"US\", \"nk\": 1, \"tz\": \"America\\\\/New_York\", \"gr\": \"MA\", \"g\": \"A6qOVH\", \"h\": \"wfLQtf\", \"l\": \"orofrog\", \"al\": \"en-US,en;q=0.8\", \"hh\": \"1.usa.gov\", \"r\": \"http:\\\\/\\\\/www.facebook.com\\\\/l\\\\/7AQEFzjSi\\\\/1.usa.gov\\\\/wfLQtf\", \"u\": \"http:\\\\/\\\\/www.ncbi.nlm.nih.gov\\\\/pubmed\\\\/22415991\", \"t\": 1331923247, \"hc\": 1331822918, \"cy\": \"Danvers\", \"ll\": [ 42.576698, -70.954903 ] }\\n'"
      ]
     },
     "execution_count": 75,
     "metadata": {},
     "output_type": "execute_result"
    }
   ],
   "source": [
    "path=(r\"C:\\Users\\USER\\Desktop\\victor\\pydata-book-3rd-edition\\datasets\\bitly_usagov\\example.txt\")\n",
    "open(path).readline()"
   ]
  },
  {
   "cell_type": "code",
   "execution_count": 76,
   "id": "772ee515",
   "metadata": {},
   "outputs": [],
   "source": [
    "import json"
   ]
  },
  {
   "cell_type": "code",
   "execution_count": 77,
   "id": "239270b1",
   "metadata": {},
   "outputs": [],
   "source": [
    "record=[json.loads(line) for line in open(path)]"
   ]
  },
  {
   "cell_type": "code",
   "execution_count": 103,
   "id": "51c6980d",
   "metadata": {},
   "outputs": [
    {
     "data": {
      "text/plain": [
       "[{'a': 'Mozilla/5.0 (Windows NT 6.1; WOW64) AppleWebKit/535.11 (KHTML, like Gecko) Chrome/17.0.963.78 Safari/535.11',\n",
       "  'c': 'US',\n",
       "  'nk': 1,\n",
       "  'tz': 'America/New_York',\n",
       "  'gr': 'MA',\n",
       "  'g': 'A6qOVH',\n",
       "  'h': 'wfLQtf',\n",
       "  'l': 'orofrog',\n",
       "  'al': 'en-US,en;q=0.8',\n",
       "  'hh': '1.usa.gov',\n",
       "  'r': 'http://www.facebook.com/l/7AQEFzjSi/1.usa.gov/wfLQtf',\n",
       "  'u': 'http://www.ncbi.nlm.nih.gov/pubmed/22415991',\n",
       "  't': 1331923247,\n",
       "  'hc': 1331822918,\n",
       "  'cy': 'Danvers',\n",
       "  'll': [42.576698, -70.954903]},\n",
       " {'a': 'GoogleMaps/RochesterNY',\n",
       "  'c': 'US',\n",
       "  'nk': 0,\n",
       "  'tz': 'America/Denver',\n",
       "  'gr': 'UT',\n",
       "  'g': 'mwszkS',\n",
       "  'h': 'mwszkS',\n",
       "  'l': 'bitly',\n",
       "  'hh': 'j.mp',\n",
       "  'r': 'http://www.AwareMap.com/',\n",
       "  'u': 'http://www.monroecounty.gov/etc/911/rss.php',\n",
       "  't': 1331923249,\n",
       "  'hc': 1308262393,\n",
       "  'cy': 'Provo',\n",
       "  'll': [40.218102, -111.613297]},\n",
       " {'a': 'Mozilla/4.0 (compatible; MSIE 8.0; Windows NT 6.1; WOW64; Trident/4.0; SLCC2; .NET CLR 2.0.50727; .NET CLR 3.5.30729; .NET CLR 3.0.30729; Media Center PC 6.0; .NET4.0C; .NET4.0E; InfoPath.3)',\n",
       "  'c': 'US',\n",
       "  'nk': 1,\n",
       "  'tz': 'America/New_York',\n",
       "  'gr': 'DC',\n",
       "  'g': 'xxr3Qb',\n",
       "  'h': 'xxr3Qb',\n",
       "  'l': 'bitly',\n",
       "  'al': 'en-US',\n",
       "  'hh': '1.usa.gov',\n",
       "  'r': 'http://t.co/03elZC4Q',\n",
       "  'u': 'http://boxer.senate.gov/en/press/releases/031612.cfm',\n",
       "  't': 1331923250,\n",
       "  'hc': 1331919941,\n",
       "  'cy': 'Washington',\n",
       "  'll': [38.9007, -77.043098]},\n",
       " {'a': 'Mozilla/5.0 (Macintosh; Intel Mac OS X 10_6_8) AppleWebKit/534.52.7 (KHTML, like Gecko) Version/5.1.2 Safari/534.52.7',\n",
       "  'c': 'BR',\n",
       "  'nk': 0,\n",
       "  'tz': 'America/Sao_Paulo',\n",
       "  'gr': '27',\n",
       "  'g': 'zCaLwp',\n",
       "  'h': 'zUtuOu',\n",
       "  'l': 'alelex88',\n",
       "  'al': 'pt-br',\n",
       "  'hh': '1.usa.gov',\n",
       "  'r': 'direct',\n",
       "  'u': 'http://apod.nasa.gov/apod/ap120312.html',\n",
       "  't': 1331923249,\n",
       "  'hc': 1331923068,\n",
       "  'cy': 'Braz',\n",
       "  'll': [-23.549999, -46.616699]},\n",
       " {'a': 'Mozilla/5.0 (Windows NT 6.1; WOW64) AppleWebKit/535.11 (KHTML, like Gecko) Chrome/17.0.963.79 Safari/535.11',\n",
       "  'c': 'US',\n",
       "  'nk': 0,\n",
       "  'tz': 'America/New_York',\n",
       "  'gr': 'MA',\n",
       "  'g': '9b6kNl',\n",
       "  'h': '9b6kNl',\n",
       "  'l': 'bitly',\n",
       "  'al': 'en-US,en;q=0.8',\n",
       "  'hh': 'bit.ly',\n",
       "  'r': 'http://www.shrewsbury-ma.gov/selco/',\n",
       "  'u': 'http://www.shrewsbury-ma.gov/egov/gallery/134127368672998.png',\n",
       "  't': 1331923251,\n",
       "  'hc': 1273672411,\n",
       "  'cy': 'Shrewsbury',\n",
       "  'll': [42.286499, -71.714699]},\n",
       " {'a': 'Mozilla/5.0 (Windows NT 6.1; WOW64) AppleWebKit/535.11 (KHTML, like Gecko) Chrome/17.0.963.79 Safari/535.11',\n",
       "  'c': 'US',\n",
       "  'nk': 0,\n",
       "  'tz': 'America/New_York',\n",
       "  'gr': 'MA',\n",
       "  'g': 'axNK8c',\n",
       "  'h': 'axNK8c',\n",
       "  'l': 'bitly',\n",
       "  'al': 'en-US,en;q=0.8',\n",
       "  'hh': 'bit.ly',\n",
       "  'r': 'http://www.shrewsbury-ma.gov/selco/',\n",
       "  'u': 'http://www.shrewsbury-ma.gov/egov/gallery/134127368675393.png',\n",
       "  't': 1331923252,\n",
       "  'hc': 1273672506,\n",
       "  'cy': 'Shrewsbury',\n",
       "  'll': [42.286499, -71.714699]},\n",
       " {'a': 'Mozilla/5.0 (Windows NT 5.1) AppleWebKit/535.11 (KHTML, like Gecko) Chrome/17.0.963.79 Safari/535.11',\n",
       "  'c': 'PL',\n",
       "  'nk': 0,\n",
       "  'tz': 'Europe/Warsaw',\n",
       "  'gr': '77',\n",
       "  'g': 'wcndER',\n",
       "  'h': 'zkpJBR',\n",
       "  'l': 'bnjacobs',\n",
       "  'al': 'pl-PL,pl;q=0.8,en-US;q=0.6,en;q=0.4',\n",
       "  'hh': '1.usa.gov',\n",
       "  'r': 'http://plus.url.google.com/url?sa=z&n=1331923253510&url=http%3A%2F%2F1.usa.gov%2FzkpJBR&usg=TF5iGSqK1_GSADtHqTqjuUZyMIY.',\n",
       "  'u': 'http://www.nasa.gov/mission_pages/nustar/main/index.html',\n",
       "  't': 1331923255,\n",
       "  'hc': 1331922854,\n",
       "  'cy': 'Luban',\n",
       "  'll': [51.116699, 15.2833]},\n",
       " {'a': 'Mozilla/5.0 (Windows NT 6.1; rv:2.0.1) Gecko/20100101 Firefox/4.0.1',\n",
       "  'c': None,\n",
       "  'nk': 0,\n",
       "  'tz': '',\n",
       "  'g': 'wcndER',\n",
       "  'h': 'zkpJBR',\n",
       "  'l': 'bnjacobs',\n",
       "  'al': 'bg,en-us;q=0.7,en;q=0.3',\n",
       "  'hh': '1.usa.gov',\n",
       "  'r': 'http://www.facebook.com/',\n",
       "  'u': 'http://www.nasa.gov/mission_pages/nustar/main/index.html',\n",
       "  't': 1331923255,\n",
       "  'hc': 1331922854},\n",
       " {'a': 'Opera/9.80 (X11; Linux zbov; U; en) Presto/2.10.254 Version/12.00',\n",
       "  'c': None,\n",
       "  'nk': 0,\n",
       "  'tz': '',\n",
       "  'g': 'wcndER',\n",
       "  'h': 'zkpJBR',\n",
       "  'l': 'bnjacobs',\n",
       "  'al': 'en-US, en',\n",
       "  'hh': '1.usa.gov',\n",
       "  'r': 'http://www.facebook.com/l.php?u=http%3A%2F%2F1.usa.gov%2FzkpJBR&h=fAQG5ntSGAQHqKPlWzuJKUA9LYeckHZCUxvjQipJDd7Rmmw',\n",
       "  'u': 'http://www.nasa.gov/mission_pages/nustar/main/index.html',\n",
       "  't': 1331923254,\n",
       "  'hc': 1331922854},\n",
       " {'a': 'Mozilla/5.0 (Windows NT 6.1; WOW64) AppleWebKit/535.11 (KHTML, like Gecko) Chrome/17.0.963.79 Safari/535.11',\n",
       "  'c': None,\n",
       "  'nk': 0,\n",
       "  'tz': '',\n",
       "  'g': 'zCaLwp',\n",
       "  'h': 'zUtuOu',\n",
       "  'l': 'alelex88',\n",
       "  'al': 'pt-BR,pt;q=0.8,en-US;q=0.6,en;q=0.4',\n",
       "  'hh': '1.usa.gov',\n",
       "  'r': 'http://t.co/o1Pd0WeV',\n",
       "  'u': 'http://apod.nasa.gov/apod/ap120312.html',\n",
       "  't': 1331923255,\n",
       "  'hc': 1331923068}]"
      ]
     },
     "execution_count": 103,
     "metadata": {},
     "output_type": "execute_result"
    }
   ],
   "source": [
    "record[:10]"
   ]
  },
  {
   "cell_type": "markdown",
   "id": "2cf00340",
   "metadata": {},
   "source": [
    "COUNTING THE TIMEZONE "
   ]
  },
  {
   "cell_type": "code",
   "execution_count": 79,
   "id": "5e50c03b",
   "metadata": {},
   "outputs": [],
   "source": [
    "time_zones=[rec[\"tz\"] for rec in record if \"tz\" in rec]"
   ]
  },
  {
   "cell_type": "code",
   "execution_count": 80,
   "id": "57b4b2d2",
   "metadata": {},
   "outputs": [
    {
     "data": {
      "text/plain": [
       "['America/New_York',\n",
       " 'America/Denver',\n",
       " 'America/New_York',\n",
       " 'America/Sao_Paulo',\n",
       " 'America/New_York',\n",
       " 'America/New_York',\n",
       " 'Europe/Warsaw',\n",
       " '',\n",
       " '',\n",
       " '']"
      ]
     },
     "execution_count": 80,
     "metadata": {},
     "output_type": "execute_result"
    }
   ],
   "source": [
    "time_zones[:10]"
   ]
  },
  {
   "cell_type": "code",
   "execution_count": 81,
   "id": "ba7b60f9",
   "metadata": {},
   "outputs": [],
   "source": [
    "def get_counts(sequence):\n",
    "    counts={}\n",
    "    for x in sequence:\n",
    "        if x in counts:\n",
    "            counts[x]+=1\n",
    "        else:\n",
    "            counts[x]=1\n",
    "    return counts"
   ]
  },
  {
   "cell_type": "code",
   "execution_count": 82,
   "id": "06c4b9e4",
   "metadata": {},
   "outputs": [
    {
     "data": {
      "text/plain": [
       "1251"
      ]
     },
     "execution_count": 82,
     "metadata": {},
     "output_type": "execute_result"
    }
   ],
   "source": [
    "counts=get_counts(time_zones)\n",
    "counts['America/New_York']\n"
   ]
  },
  {
   "cell_type": "code",
   "execution_count": 83,
   "id": "9e83ffa2",
   "metadata": {},
   "outputs": [
    {
     "data": {
      "text/plain": [
       "3440"
      ]
     },
     "execution_count": 83,
     "metadata": {},
     "output_type": "execute_result"
    }
   ],
   "source": [
    "len(time_zones)"
   ]
  },
  {
   "cell_type": "raw",
   "id": "9ab74713",
   "metadata": {},
   "source": []
  },
  {
   "cell_type": "markdown",
   "id": "a8fcba21",
   "metadata": {},
   "source": [
    "LOADING THE FILE INTO PANDAS"
   ]
  },
  {
   "cell_type": "code",
   "execution_count": 84,
   "id": "32f76c5c",
   "metadata": {},
   "outputs": [],
   "source": [
    "import pandas as pd\n",
    "frame=pd.DataFrame(record)"
   ]
  },
  {
   "cell_type": "code",
   "execution_count": 85,
   "id": "04384ea5",
   "metadata": {},
   "outputs": [
    {
     "name": "stdout",
     "output_type": "stream",
     "text": [
      "<class 'pandas.core.frame.DataFrame'>\n",
      "RangeIndex: 3560 entries, 0 to 3559\n",
      "Data columns (total 18 columns):\n",
      " #   Column       Non-Null Count  Dtype  \n",
      "---  ------       --------------  -----  \n",
      " 0   a            3440 non-null   object \n",
      " 1   c            2919 non-null   object \n",
      " 2   nk           3440 non-null   float64\n",
      " 3   tz           3440 non-null   object \n",
      " 4   gr           2919 non-null   object \n",
      " 5   g            3440 non-null   object \n",
      " 6   h            3440 non-null   object \n",
      " 7   l            3440 non-null   object \n",
      " 8   al           3094 non-null   object \n",
      " 9   hh           3440 non-null   object \n",
      " 10  r            3440 non-null   object \n",
      " 11  u            3440 non-null   object \n",
      " 12  t            3440 non-null   float64\n",
      " 13  hc           3440 non-null   float64\n",
      " 14  cy           2919 non-null   object \n",
      " 15  ll           2919 non-null   object \n",
      " 16  _heartbeat_  120 non-null    float64\n",
      " 17  kw           93 non-null     object \n",
      "dtypes: float64(4), object(14)\n",
      "memory usage: 500.8+ KB\n"
     ]
    }
   ],
   "source": [
    "frame.info()"
   ]
  },
  {
   "cell_type": "code",
   "execution_count": 86,
   "id": "be049b09",
   "metadata": {},
   "outputs": [
    {
     "data": {
      "text/html": [
       "<div>\n",
       "<style scoped>\n",
       "    .dataframe tbody tr th:only-of-type {\n",
       "        vertical-align: middle;\n",
       "    }\n",
       "\n",
       "    .dataframe tbody tr th {\n",
       "        vertical-align: top;\n",
       "    }\n",
       "\n",
       "    .dataframe thead th {\n",
       "        text-align: right;\n",
       "    }\n",
       "</style>\n",
       "<table border=\"1\" class=\"dataframe\">\n",
       "  <thead>\n",
       "    <tr style=\"text-align: right;\">\n",
       "      <th></th>\n",
       "      <th>a</th>\n",
       "      <th>c</th>\n",
       "      <th>nk</th>\n",
       "      <th>tz</th>\n",
       "      <th>gr</th>\n",
       "      <th>g</th>\n",
       "      <th>h</th>\n",
       "      <th>l</th>\n",
       "      <th>al</th>\n",
       "      <th>hh</th>\n",
       "      <th>r</th>\n",
       "      <th>u</th>\n",
       "      <th>t</th>\n",
       "      <th>hc</th>\n",
       "      <th>cy</th>\n",
       "      <th>ll</th>\n",
       "      <th>_heartbeat_</th>\n",
       "      <th>kw</th>\n",
       "    </tr>\n",
       "  </thead>\n",
       "  <tbody>\n",
       "    <tr>\n",
       "      <th>0</th>\n",
       "      <td>Mozilla/5.0 (Windows NT 6.1; WOW64) AppleWebKi...</td>\n",
       "      <td>US</td>\n",
       "      <td>1.0</td>\n",
       "      <td>America/New_York</td>\n",
       "      <td>MA</td>\n",
       "      <td>A6qOVH</td>\n",
       "      <td>wfLQtf</td>\n",
       "      <td>orofrog</td>\n",
       "      <td>en-US,en;q=0.8</td>\n",
       "      <td>1.usa.gov</td>\n",
       "      <td>http://www.facebook.com/l/7AQEFzjSi/1.usa.gov/...</td>\n",
       "      <td>http://www.ncbi.nlm.nih.gov/pubmed/22415991</td>\n",
       "      <td>1.331923e+09</td>\n",
       "      <td>1.331823e+09</td>\n",
       "      <td>Danvers</td>\n",
       "      <td>[42.576698, -70.954903]</td>\n",
       "      <td>NaN</td>\n",
       "      <td>NaN</td>\n",
       "    </tr>\n",
       "    <tr>\n",
       "      <th>1</th>\n",
       "      <td>GoogleMaps/RochesterNY</td>\n",
       "      <td>US</td>\n",
       "      <td>0.0</td>\n",
       "      <td>America/Denver</td>\n",
       "      <td>UT</td>\n",
       "      <td>mwszkS</td>\n",
       "      <td>mwszkS</td>\n",
       "      <td>bitly</td>\n",
       "      <td>NaN</td>\n",
       "      <td>j.mp</td>\n",
       "      <td>http://www.AwareMap.com/</td>\n",
       "      <td>http://www.monroecounty.gov/etc/911/rss.php</td>\n",
       "      <td>1.331923e+09</td>\n",
       "      <td>1.308262e+09</td>\n",
       "      <td>Provo</td>\n",
       "      <td>[40.218102, -111.613297]</td>\n",
       "      <td>NaN</td>\n",
       "      <td>NaN</td>\n",
       "    </tr>\n",
       "    <tr>\n",
       "      <th>2</th>\n",
       "      <td>Mozilla/4.0 (compatible; MSIE 8.0; Windows NT ...</td>\n",
       "      <td>US</td>\n",
       "      <td>1.0</td>\n",
       "      <td>America/New_York</td>\n",
       "      <td>DC</td>\n",
       "      <td>xxr3Qb</td>\n",
       "      <td>xxr3Qb</td>\n",
       "      <td>bitly</td>\n",
       "      <td>en-US</td>\n",
       "      <td>1.usa.gov</td>\n",
       "      <td>http://t.co/03elZC4Q</td>\n",
       "      <td>http://boxer.senate.gov/en/press/releases/0316...</td>\n",
       "      <td>1.331923e+09</td>\n",
       "      <td>1.331920e+09</td>\n",
       "      <td>Washington</td>\n",
       "      <td>[38.9007, -77.043098]</td>\n",
       "      <td>NaN</td>\n",
       "      <td>NaN</td>\n",
       "    </tr>\n",
       "    <tr>\n",
       "      <th>3</th>\n",
       "      <td>Mozilla/5.0 (Macintosh; Intel Mac OS X 10_6_8)...</td>\n",
       "      <td>BR</td>\n",
       "      <td>0.0</td>\n",
       "      <td>America/Sao_Paulo</td>\n",
       "      <td>27</td>\n",
       "      <td>zCaLwp</td>\n",
       "      <td>zUtuOu</td>\n",
       "      <td>alelex88</td>\n",
       "      <td>pt-br</td>\n",
       "      <td>1.usa.gov</td>\n",
       "      <td>direct</td>\n",
       "      <td>http://apod.nasa.gov/apod/ap120312.html</td>\n",
       "      <td>1.331923e+09</td>\n",
       "      <td>1.331923e+09</td>\n",
       "      <td>Braz</td>\n",
       "      <td>[-23.549999, -46.616699]</td>\n",
       "      <td>NaN</td>\n",
       "      <td>NaN</td>\n",
       "    </tr>\n",
       "    <tr>\n",
       "      <th>4</th>\n",
       "      <td>Mozilla/5.0 (Windows NT 6.1; WOW64) AppleWebKi...</td>\n",
       "      <td>US</td>\n",
       "      <td>0.0</td>\n",
       "      <td>America/New_York</td>\n",
       "      <td>MA</td>\n",
       "      <td>9b6kNl</td>\n",
       "      <td>9b6kNl</td>\n",
       "      <td>bitly</td>\n",
       "      <td>en-US,en;q=0.8</td>\n",
       "      <td>bit.ly</td>\n",
       "      <td>http://www.shrewsbury-ma.gov/selco/</td>\n",
       "      <td>http://www.shrewsbury-ma.gov/egov/gallery/1341...</td>\n",
       "      <td>1.331923e+09</td>\n",
       "      <td>1.273672e+09</td>\n",
       "      <td>Shrewsbury</td>\n",
       "      <td>[42.286499, -71.714699]</td>\n",
       "      <td>NaN</td>\n",
       "      <td>NaN</td>\n",
       "    </tr>\n",
       "  </tbody>\n",
       "</table>\n",
       "</div>"
      ],
      "text/plain": [
       "                                                   a   c   nk  \\\n",
       "0  Mozilla/5.0 (Windows NT 6.1; WOW64) AppleWebKi...  US  1.0   \n",
       "1                             GoogleMaps/RochesterNY  US  0.0   \n",
       "2  Mozilla/4.0 (compatible; MSIE 8.0; Windows NT ...  US  1.0   \n",
       "3  Mozilla/5.0 (Macintosh; Intel Mac OS X 10_6_8)...  BR  0.0   \n",
       "4  Mozilla/5.0 (Windows NT 6.1; WOW64) AppleWebKi...  US  0.0   \n",
       "\n",
       "                  tz  gr       g       h         l              al         hh  \\\n",
       "0   America/New_York  MA  A6qOVH  wfLQtf   orofrog  en-US,en;q=0.8  1.usa.gov   \n",
       "1     America/Denver  UT  mwszkS  mwszkS     bitly             NaN       j.mp   \n",
       "2   America/New_York  DC  xxr3Qb  xxr3Qb     bitly           en-US  1.usa.gov   \n",
       "3  America/Sao_Paulo  27  zCaLwp  zUtuOu  alelex88           pt-br  1.usa.gov   \n",
       "4   America/New_York  MA  9b6kNl  9b6kNl     bitly  en-US,en;q=0.8     bit.ly   \n",
       "\n",
       "                                                   r  \\\n",
       "0  http://www.facebook.com/l/7AQEFzjSi/1.usa.gov/...   \n",
       "1                           http://www.AwareMap.com/   \n",
       "2                               http://t.co/03elZC4Q   \n",
       "3                                             direct   \n",
       "4                http://www.shrewsbury-ma.gov/selco/   \n",
       "\n",
       "                                                   u             t  \\\n",
       "0        http://www.ncbi.nlm.nih.gov/pubmed/22415991  1.331923e+09   \n",
       "1        http://www.monroecounty.gov/etc/911/rss.php  1.331923e+09   \n",
       "2  http://boxer.senate.gov/en/press/releases/0316...  1.331923e+09   \n",
       "3            http://apod.nasa.gov/apod/ap120312.html  1.331923e+09   \n",
       "4  http://www.shrewsbury-ma.gov/egov/gallery/1341...  1.331923e+09   \n",
       "\n",
       "             hc          cy                        ll  _heartbeat_   kw  \n",
       "0  1.331823e+09     Danvers   [42.576698, -70.954903]          NaN  NaN  \n",
       "1  1.308262e+09       Provo  [40.218102, -111.613297]          NaN  NaN  \n",
       "2  1.331920e+09  Washington     [38.9007, -77.043098]          NaN  NaN  \n",
       "3  1.331923e+09        Braz  [-23.549999, -46.616699]          NaN  NaN  \n",
       "4  1.273672e+09  Shrewsbury   [42.286499, -71.714699]          NaN  NaN  "
      ]
     },
     "execution_count": 86,
     "metadata": {},
     "output_type": "execute_result"
    }
   ],
   "source": [
    "frame.head()"
   ]
  },
  {
   "cell_type": "code",
   "execution_count": 87,
   "id": "b126cf26",
   "metadata": {},
   "outputs": [],
   "source": [
    "tz_counts=frame[\"tz\"].value_counts() #COUNTING THE TIMEZONES"
   ]
  },
  {
   "cell_type": "code",
   "execution_count": 88,
   "id": "f788dd35",
   "metadata": {},
   "outputs": [
    {
     "data": {
      "text/plain": [
       "America/New_York        1251\n",
       "                         521\n",
       "America/Chicago          400\n",
       "America/Los_Angeles      382\n",
       "America/Denver           191\n",
       "                        ... \n",
       "Europe/Uzhgorod            1\n",
       "Australia/Queensland       1\n",
       "Europe/Sofia               1\n",
       "America/Costa_Rica         1\n",
       "America/Tegucigalpa        1\n",
       "Name: tz, Length: 97, dtype: int64"
      ]
     },
     "execution_count": 88,
     "metadata": {},
     "output_type": "execute_result"
    }
   ],
   "source": [
    "tz_counts"
   ]
  },
  {
   "cell_type": "markdown",
   "id": "c8890aed",
   "metadata": {},
   "source": [
    "DATA CLEANING"
   ]
  },
  {
   "cell_type": "code",
   "execution_count": 89,
   "id": "ed9cd9ba",
   "metadata": {},
   "outputs": [],
   "source": [
    "#CLEANING THE TIMEZONES\n",
    "clean_tz=frame[\"tz\"].fillna(\"missing\")\n",
    "clean_tz[clean_tz == ''] = 'Unknown'"
   ]
  },
  {
   "cell_type": "code",
   "execution_count": 90,
   "id": "55d946ea",
   "metadata": {},
   "outputs": [
    {
     "data": {
      "text/plain": [
       "America/New_York       1251\n",
       "Unknown                 521\n",
       "America/Chicago         400\n",
       "America/Los_Angeles     382\n",
       "America/Denver          191\n",
       "missing                 120\n",
       "Europe/London            74\n",
       "Asia/Tokyo               37\n",
       "Pacific/Honolulu         36\n",
       "Europe/Madrid            35\n",
       "Name: tz, dtype: int64"
      ]
     },
     "execution_count": 90,
     "metadata": {},
     "output_type": "execute_result"
    }
   ],
   "source": [
    "tz_counts = clean_tz.value_counts()\n",
    "tz_counts[:10]"
   ]
  },
  {
   "cell_type": "code",
   "execution_count": 91,
   "id": "68eb23cc",
   "metadata": {},
   "outputs": [],
   "source": [
    "#IMPORTING THE VISUALIZATION MODULE \n",
    "import seaborn as sns"
   ]
  },
  {
   "cell_type": "code",
   "execution_count": 92,
   "id": "c1bca66d",
   "metadata": {},
   "outputs": [
    {
     "data": {
      "text/plain": [
       "<AxesSubplot:>"
      ]
     },
     "execution_count": 92,
     "metadata": {},
     "output_type": "execute_result"
    },
    {
     "data": {
      "image/png": "[encoded data removed]",
      "text/plain": [
       "<Figure size 640x480 with 1 Axes>"
      ]
     },
     "metadata": {},
     "output_type": "display_data"
    }
   ],
   "source": [
    "#VISUALIZING TIMEZONE COUNTS\n",
    "subset=tz_counts[:20]\n",
    "sns.barplot(y=subset.index, x=subset.values)"
   ]
  },
  {
   "cell_type": "code",
   "execution_count": 93,
   "id": "3ff699f8",
   "metadata": {},
   "outputs": [],
   "source": [
    "#The a field contains information about the browser, device, or application used to\n",
    "#perform the URL shortening"
   ]
  },
  {
   "cell_type": "code",
   "execution_count": 94,
   "id": "a62a27ce",
   "metadata": {},
   "outputs": [
    {
     "data": {
      "text/plain": [
       "0     Mozilla/5.0 (Windows NT 6.1; WOW64) AppleWebKi...\n",
       "1                                GoogleMaps/RochesterNY\n",
       "2     Mozilla/4.0 (compatible; MSIE 8.0; Windows NT ...\n",
       "3     Mozilla/5.0 (Macintosh; Intel Mac OS X 10_6_8)...\n",
       "4     Mozilla/5.0 (Windows NT 6.1; WOW64) AppleWebKi...\n",
       "5     Mozilla/5.0 (Windows NT 6.1; WOW64) AppleWebKi...\n",
       "6     Mozilla/5.0 (Windows NT 5.1) AppleWebKit/535.1...\n",
       "7     Mozilla/5.0 (Windows NT 6.1; rv:2.0.1) Gecko/2...\n",
       "8     Opera/9.80 (X11; Linux zbov; U; en) Presto/2.1...\n",
       "9     Mozilla/5.0 (Windows NT 6.1; WOW64) AppleWebKi...\n",
       "10    Mozilla/5.0 (Windows NT 6.1; WOW64; rv:10.0.2)...\n",
       "11    Mozilla/5.0 (Macintosh; U; Intel Mac OS X 10.4...\n",
       "12    Mozilla/5.0 (Windows NT 6.1; WOW64; rv:10.0.2)...\n",
       "13                                                  NaN\n",
       "14    Mozilla/5.0 (Windows; U; Windows NT 6.1; en-US...\n",
       "15    Mozilla/5.0 (Windows NT 6.1) AppleWebKit/535.1...\n",
       "16    Mozilla/5.0 (Windows NT 6.1) AppleWebKit/535.1...\n",
       "17    Mozilla/5.0 (Macintosh; Intel Mac OS X 10.5; r...\n",
       "18                               GoogleMaps/RochesterNY\n",
       "19    Mozilla/5.0 (Windows NT 6.1; WOW64) AppleWebKi...\n",
       "20    Mozilla/5.0 (compatible; MSIE 9.0; Windows NT ...\n",
       "21    Mozilla/5.0 (Macintosh; U; Intel Mac OS X 10.6...\n",
       "22    Mozilla/4.0 (compatible; MSIE 8.0; Windows NT ...\n",
       "23    Mozilla/5.0 (Macintosh; Intel Mac OS X 10_7_3)...\n",
       "24    Mozilla/5.0 (Windows; U; Windows NT 5.1; es-ES...\n",
       "25    Mozilla/5.0 (Windows NT 6.1) AppleWebKit/535.1...\n",
       "26    Mozilla/5.0 (Windows NT 6.1) AppleWebKit/535.1...\n",
       "27    Mozilla/5.0 (Macintosh; Intel Mac OS X 10_6_8)...\n",
       "28    Mozilla/5.0 (iPad; CPU OS 5_0_1 like Mac OS X)...\n",
       "29    Mozilla/5.0 (iPad; U; CPU OS 3_2 like Mac OS X...\n",
       "30    Mozilla/5.0 (Windows NT 5.1) AppleWebKit/535.1...\n",
       "31    Mozilla/5.0 (Windows NT 5.1) AppleWebKit/535.1...\n",
       "32    Mozilla/4.0 (compatible; MSIE 7.0; Windows NT ...\n",
       "33    Mozilla/5.0 (Macintosh; U; Intel Mac OS X 10.4...\n",
       "34    Mozilla/5.0 (Windows NT 5.1) AppleWebKit/535.1...\n",
       "35    Mozilla/5.0 (Windows NT 6.1; WOW64) AppleWebKi...\n",
       "36    Mozilla/4.0 (compatible; MSIE 7.0; Windows NT ...\n",
       "37    Mozilla/5.0 (Windows NT 6.1; WOW64; rv:10.0.2)...\n",
       "38    Mozilla/4.0 (compatible; MSIE 8.0; Windows NT ...\n",
       "39    Mozilla/5.0 (Windows NT 6.1; WOW64; rv:10.0.2)...\n",
       "40    Mozilla/5.0 (iPhone; CPU iPhone OS 5_1 like Ma...\n",
       "41    Mozilla/5.0 (Windows NT 6.1; WOW64; rv:10.0.2)...\n",
       "42    Mozilla/5.0 (Windows NT 6.1; WOW64) AppleWebKi...\n",
       "43    Mozilla/5.0 (Windows NT 6.1; rv:9.0.1) Gecko/2...\n",
       "44    Mozilla/5.0 (iPhone; CPU iPhone OS 5_0_1 like ...\n",
       "45    Mozilla/5.0 (Macintosh; Intel Mac OS X 10.6; r...\n",
       "46    BlackBerry8520/5.0.0.592 Profile/MIDP-2.1 Conf...\n",
       "47    Mozilla/5.0 (Windows; U; Windows NT 6.1; en-US...\n",
       "48    Mozilla/5.0 (Windows NT 6.1; WOW64; rv:9.0.1) ...\n",
       "49    Mozilla/4.0 (compatible; MSIE 8.0; Windows NT ...\n",
       "Name: a, dtype: object"
      ]
     },
     "execution_count": 94,
     "metadata": {},
     "output_type": "execute_result"
    }
   ],
   "source": [
    "frame[\"a\"][:50]"
   ]
  },
  {
   "cell_type": "code",
   "execution_count": 95,
   "id": "63e7a6b5",
   "metadata": {},
   "outputs": [],
   "source": [
    " #splitting off the first token in the string \n",
    "results = pd.Series([x.split()[0] for x in frame.a.dropna()])"
   ]
  },
  {
   "cell_type": "code",
   "execution_count": 96,
   "id": "282f4924",
   "metadata": {},
   "outputs": [
    {
     "data": {
      "text/plain": [
       "Mozilla/5.0                                          2594\n",
       "Mozilla/4.0                                           601\n",
       "GoogleMaps/RochesterNY                                121\n",
       "Opera/9.80                                             34\n",
       "TEST_INTERNET_AGENT                                    24\n",
       "GoogleProducer                                         21\n",
       "Mozilla/6.0                                             5\n",
       "BlackBerry8520/5.0.0.681                                4\n",
       "BlackBerry8520/5.0.0.592                                3\n",
       "Dalvik/1.4.0                                            3\n",
       "Goldfire                                                2\n",
       "Acoon                                                   2\n",
       "Socialite/7766                                          2\n",
       "BlackBerry9630/5.0.0.975                                2\n",
       "sometrik.com                                            1\n",
       "Vodafone/1.0/LG-KU990i/V10c                             1\n",
       "BlackBerry8530/5.0.0.654                                1\n",
       "Vancouver                                               1\n",
       "Opera/9.00                                              1\n",
       "Opera/9.64(Windows                                      1\n",
       "Mozilla/0.6                                             1\n",
       "MOT-MB525/Blur_Version.34.4.709.MB525.Latam.en.01       1\n",
       "LG-GW382f/V10d                                          1\n",
       "Opera/9.50                                              1\n",
       "HTTP_Request2/2.0.0                                     1\n",
       "ICE                                                     1\n",
       "BlackBerry9700/5.0.0.423                                1\n",
       "Opera/9.30                                              1\n",
       "LG-LG220C[TF268435458416597116000000013524223841]       1\n",
       "BlackBerry9300/5.0.0.997                                1\n",
       "Nokia6790s-1b/ATT.03.22                                 1\n",
       "SAMSUNG-SGH-A887/A887UCIJ1                              1\n",
       "BlackBerry9530/5.0.0.328                                1\n",
       "BlackBerry8520/5.0.0.1067                               1\n",
       "NokiaC3-00/5.0                                          1\n",
       "BlackBerry9700/5.0.0.862                                1\n",
       "dtype: int64"
      ]
     },
     "execution_count": 96,
     "metadata": {},
     "output_type": "execute_result"
    }
   ],
   "source": [
    "results.value_counts()"
   ]
  },
  {
   "cell_type": "markdown",
   "id": "1b4a17ec",
   "metadata": {},
   "source": [
    "DECOMPOSING THE TOP TIMEZONES INTO WINDOWS AND NON-WINDOW USERS "
   ]
  },
  {
   "cell_type": "code",
   "execution_count": 97,
   "id": "252d3404",
   "metadata": {},
   "outputs": [
    {
     "name": "stderr",
     "output_type": "stream",
     "text": [
      "C:\\Users\\USER\\AppData\\Local\\Temp\\ipykernel_4336\\2310209606.py:4: SettingWithCopyWarning: \n",
      "A value is trying to be set on a copy of a slice from a DataFrame.\n",
      "Try using .loc[row_indexer,col_indexer] = value instead\n",
      "\n",
      "See the caveats in the documentation: https://pandas.pydata.org/pandas-docs/stable/user_guide/indexing.html#returning-a-view-versus-a-copy\n",
      "  cframe['os'] = np.where(cframe['a'].str.contains('Windows'),'Windows', 'Not Windows')\n"
     ]
    },
    {
     "data": {
      "text/plain": [
       "0        Windows\n",
       "1    Not Windows\n",
       "2        Windows\n",
       "3    Not Windows\n",
       "4        Windows\n",
       "Name: os, dtype: object"
      ]
     },
     "execution_count": 97,
     "metadata": {},
     "output_type": "execute_result"
    }
   ],
   "source": [
    "# Determined user is on Windows if the string 'Windows' is in the agent string\n",
    "cframe = frame[frame.a.notnull()]\n",
    "import numpy as np\n",
    "cframe['os'] = np.where(cframe['a'].str.contains('Windows'),'Windows', 'Not Windows')\n",
    "cframe['os'][:5]"
   ]
  },
  {
   "cell_type": "code",
   "execution_count": 98,
   "id": "09a1f07a",
   "metadata": {},
   "outputs": [
    {
     "data": {
      "text/html": [
       "<div>\n",
       "<style scoped>\n",
       "    .dataframe tbody tr th:only-of-type {\n",
       "        vertical-align: middle;\n",
       "    }\n",
       "\n",
       "    .dataframe tbody tr th {\n",
       "        vertical-align: top;\n",
       "    }\n",
       "\n",
       "    .dataframe thead th {\n",
       "        text-align: right;\n",
       "    }\n",
       "</style>\n",
       "<table border=\"1\" class=\"dataframe\">\n",
       "  <thead>\n",
       "    <tr style=\"text-align: right;\">\n",
       "      <th>os</th>\n",
       "      <th>Not Windows</th>\n",
       "      <th>Windows</th>\n",
       "    </tr>\n",
       "    <tr>\n",
       "      <th>tz</th>\n",
       "      <th></th>\n",
       "      <th></th>\n",
       "    </tr>\n",
       "  </thead>\n",
       "  <tbody>\n",
       "    <tr>\n",
       "      <th></th>\n",
       "      <td>245.0</td>\n",
       "      <td>276.0</td>\n",
       "    </tr>\n",
       "    <tr>\n",
       "      <th>Africa/Cairo</th>\n",
       "      <td>0.0</td>\n",
       "      <td>3.0</td>\n",
       "    </tr>\n",
       "    <tr>\n",
       "      <th>Africa/Casablanca</th>\n",
       "      <td>0.0</td>\n",
       "      <td>1.0</td>\n",
       "    </tr>\n",
       "    <tr>\n",
       "      <th>Africa/Ceuta</th>\n",
       "      <td>0.0</td>\n",
       "      <td>2.0</td>\n",
       "    </tr>\n",
       "    <tr>\n",
       "      <th>Africa/Johannesburg</th>\n",
       "      <td>0.0</td>\n",
       "      <td>1.0</td>\n",
       "    </tr>\n",
       "    <tr>\n",
       "      <th>Africa/Lusaka</th>\n",
       "      <td>0.0</td>\n",
       "      <td>1.0</td>\n",
       "    </tr>\n",
       "    <tr>\n",
       "      <th>America/Anchorage</th>\n",
       "      <td>4.0</td>\n",
       "      <td>1.0</td>\n",
       "    </tr>\n",
       "    <tr>\n",
       "      <th>America/Argentina/Buenos_Aires</th>\n",
       "      <td>1.0</td>\n",
       "      <td>0.0</td>\n",
       "    </tr>\n",
       "    <tr>\n",
       "      <th>America/Argentina/Cordoba</th>\n",
       "      <td>0.0</td>\n",
       "      <td>1.0</td>\n",
       "    </tr>\n",
       "    <tr>\n",
       "      <th>America/Argentina/Mendoza</th>\n",
       "      <td>0.0</td>\n",
       "      <td>1.0</td>\n",
       "    </tr>\n",
       "  </tbody>\n",
       "</table>\n",
       "</div>"
      ],
      "text/plain": [
       "os                              Not Windows  Windows\n",
       "tz                                                  \n",
       "                                      245.0    276.0\n",
       "Africa/Cairo                            0.0      3.0\n",
       "Africa/Casablanca                       0.0      1.0\n",
       "Africa/Ceuta                            0.0      2.0\n",
       "Africa/Johannesburg                     0.0      1.0\n",
       "Africa/Lusaka                           0.0      1.0\n",
       "America/Anchorage                       4.0      1.0\n",
       "America/Argentina/Buenos_Aires          1.0      0.0\n",
       "America/Argentina/Cordoba               0.0      1.0\n",
       "America/Argentina/Mendoza               0.0      1.0"
      ]
     },
     "execution_count": 98,
     "metadata": {},
     "output_type": "execute_result"
    }
   ],
   "source": [
    "#grouping the data by the timezone column and it operating system\n",
    "by_tz_os = cframe.groupby(['tz', 'os'])\n",
    "#aggregate counting\n",
    "agg_counts = by_tz_os.size().unstack().fillna(0) #filling null with 0\n",
    "agg_counts[:10]"
   ]
  },
  {
   "cell_type": "code",
   "execution_count": 99,
   "id": "e6989d54",
   "metadata": {},
   "outputs": [
    {
     "data": {
      "text/plain": [
       "tz\n",
       "                                  24\n",
       "Africa/Cairo                      20\n",
       "Africa/Casablanca                 21\n",
       "Africa/Ceuta                      92\n",
       "Africa/Johannesburg               87\n",
       "Africa/Lusaka                     53\n",
       "America/Anchorage                 54\n",
       "America/Argentina/Buenos_Aires    57\n",
       "America/Argentina/Cordoba         26\n",
       "America/Argentina/Mendoza         55\n",
       "America/Bogota                    62\n",
       "America/Caracas                   34\n",
       "America/Chicago                   60\n",
       "America/Chihuahua                 36\n",
       "America/Costa_Rica                37\n",
       "America/Denver                    27\n",
       "America/Edmonton                  76\n",
       "America/Guayaquil                 56\n",
       "America/Halifax                   89\n",
       "America/Indianapolis               2\n",
       "dtype: int64"
      ]
     },
     "execution_count": 99,
     "metadata": {},
     "output_type": "execute_result"
    }
   ],
   "source": [
    "# Use to sort in ascending order\n",
    "indexer = agg_counts.sum(1).argsort()\n",
    "indexer[:20]"
   ]
  },
  {
   "cell_type": "code",
   "execution_count": 100,
   "id": "d9e12cf6",
   "metadata": {},
   "outputs": [
    {
     "data": {
      "text/html": [
       "<div>\n",
       "<style scoped>\n",
       "    .dataframe tbody tr th:only-of-type {\n",
       "        vertical-align: middle;\n",
       "    }\n",
       "\n",
       "    .dataframe tbody tr th {\n",
       "        vertical-align: top;\n",
       "    }\n",
       "\n",
       "    .dataframe thead th {\n",
       "        text-align: right;\n",
       "    }\n",
       "</style>\n",
       "<table border=\"1\" class=\"dataframe\">\n",
       "  <thead>\n",
       "    <tr style=\"text-align: right;\">\n",
       "      <th>os</th>\n",
       "      <th>Not Windows</th>\n",
       "      <th>Windows</th>\n",
       "    </tr>\n",
       "    <tr>\n",
       "      <th>tz</th>\n",
       "      <th></th>\n",
       "      <th></th>\n",
       "    </tr>\n",
       "  </thead>\n",
       "  <tbody>\n",
       "    <tr>\n",
       "      <th>America/Sao_Paulo</th>\n",
       "      <td>13.0</td>\n",
       "      <td>20.0</td>\n",
       "    </tr>\n",
       "    <tr>\n",
       "      <th>Europe/Madrid</th>\n",
       "      <td>16.0</td>\n",
       "      <td>19.0</td>\n",
       "    </tr>\n",
       "    <tr>\n",
       "      <th>Pacific/Honolulu</th>\n",
       "      <td>0.0</td>\n",
       "      <td>36.0</td>\n",
       "    </tr>\n",
       "    <tr>\n",
       "      <th>Asia/Tokyo</th>\n",
       "      <td>2.0</td>\n",
       "      <td>35.0</td>\n",
       "    </tr>\n",
       "    <tr>\n",
       "      <th>Europe/London</th>\n",
       "      <td>43.0</td>\n",
       "      <td>31.0</td>\n",
       "    </tr>\n",
       "    <tr>\n",
       "      <th>America/Denver</th>\n",
       "      <td>132.0</td>\n",
       "      <td>59.0</td>\n",
       "    </tr>\n",
       "    <tr>\n",
       "      <th>America/Los_Angeles</th>\n",
       "      <td>130.0</td>\n",
       "      <td>252.0</td>\n",
       "    </tr>\n",
       "    <tr>\n",
       "      <th>America/Chicago</th>\n",
       "      <td>115.0</td>\n",
       "      <td>285.0</td>\n",
       "    </tr>\n",
       "    <tr>\n",
       "      <th></th>\n",
       "      <td>245.0</td>\n",
       "      <td>276.0</td>\n",
       "    </tr>\n",
       "    <tr>\n",
       "      <th>America/New_York</th>\n",
       "      <td>339.0</td>\n",
       "      <td>912.0</td>\n",
       "    </tr>\n",
       "  </tbody>\n",
       "</table>\n",
       "</div>"
      ],
      "text/plain": [
       "os                   Not Windows  Windows\n",
       "tz                                       \n",
       "America/Sao_Paulo           13.0     20.0\n",
       "Europe/Madrid               16.0     19.0\n",
       "Pacific/Honolulu             0.0     36.0\n",
       "Asia/Tokyo                   2.0     35.0\n",
       "Europe/London               43.0     31.0\n",
       "America/Denver             132.0     59.0\n",
       "America/Los_Angeles        130.0    252.0\n",
       "America/Chicago            115.0    285.0\n",
       "                           245.0    276.0\n",
       "America/New_York           339.0    912.0"
      ]
     },
     "execution_count": 100,
     "metadata": {},
     "output_type": "execute_result"
    }
   ],
   "source": [
    "#I use take to select the rows in that order, then slice off the last 10 rows (largest values\n",
    "count_subset = agg_counts.take(indexer[-10:])\n",
    "count_subset\n"
   ]
  },
  {
   "cell_type": "code",
   "execution_count": 101,
   "id": "f5e234a5",
   "metadata": {},
   "outputs": [
    {
     "data": {
      "text/plain": [
       "<AxesSubplot:xlabel='total', ylabel='tz'>"
      ]
     },
     "execution_count": 101,
     "metadata": {},
     "output_type": "execute_result"
    },
    {
     "data": {
      "image/png": "[encoded data removed]",
      "text/plain": [
       "<Figure size 640x480 with 1 Axes>"
      ]
     },
     "metadata": {},
     "output_type": "display_data"
    }
   ],
   "source": [
    "# Rearrange the data for plotting\n",
    "count_subset = count_subset.stack()\n",
    "count_subset.name = 'total'\n",
    "count_subset = count_subset.reset_index()\n",
    "sns.barplot(x='total', y='tz', hue='os', data=count_subset)\n",
    "#Top time zones by Windows and non-Windows users"
   ]
  },
  {
   "cell_type": "code",
   "execution_count": null,
   "id": "35bc9b5a",
   "metadata": {},
   "outputs": [],
   "source": [
    "#The plot doesn’t make it easy to see the relative percentage of Windows users in the\n",
    "#smaller groups, so let’s normalize the group percentages to sum to 1"
   ]
  },
  {
   "cell_type": "code",
   "execution_count": 102,
   "id": "4786f0af",
   "metadata": {},
   "outputs": [
    {
     "data": {
      "text/plain": [
       "<AxesSubplot:xlabel='normed_total', ylabel='tz'>"
      ]
     },
     "execution_count": 102,
     "metadata": {},
     "output_type": "execute_result"
    },
    {
     "data": {
      "image/png": "[encoded data removed]",
      "text/plain": [
       "<Figure size 640x480 with 1 Axes>"
      ]
     },
     "metadata": {},
     "output_type": "display_data"
    }
   ],
   "source": [
    "def norm_total(group):\n",
    "    group['normed_total'] = group.total / group.total.sum()\n",
    "    return group\n",
    "results = count_subset.groupby('tz').apply(norm_total)\n",
    "sns.barplot(x='normed_total', y='tz', hue='os', data=results)"
   ]
  },
  {
   "cell_type": "code",
   "execution_count": null,
   "id": "bc9eb6b4",
   "metadata": {},
   "outputs": [],
   "source": []
  }
 ],
 "metadata": {
  "kernelspec": {
   "display_name": "Python 3 (ipykernel)",
   "language": "python",
   "name": "python3"
  },
  "language_info": {
   "codemirror_mode": {
    "name": "ipython",
    "version": 3
   },
   "file_extension": ".py",
   "mimetype": "text/x-python",
   "name": "python",
   "nbconvert_exporter": "python",
   "pygments_lexer": "ipython3",
   "version": "3.9.13"
  }
 },
 "nbformat": 4,
 "nbformat_minor": 5
}
